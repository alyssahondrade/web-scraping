


# Import Splinter and BeautifulSoup
from splinter import Browser
from bs4 import BeautifulSoup


browser = Browser('chrome')





# Visit the Mars news site
url = 'https://static.bc-edx.com/data/web/mars_news/index.html'
browser.visit(url)





# Scrape the website
html = browser.html

# Create a Beautiful Soup object
soup = BeautifulSoup(html, 'html.parser')


# Extract all the text elements
text_elts = soup.find_all('div', class_='list_text')





# Create an empty list to store the dictionaries
dict_list = []


# Loop through the text elements
for elt in text_elts:
    # Create a new dictionary for each element
    elt_dict = dict()

    # Extract the title and preview text from the elements
    # Store each title and preview pair in a dictionary
    elt_dict['title'] = elt.find('div', class_='content_title').get_text()
    elt_dict['preview'] = elt.find('div', class_='article_teaser_body').get_text()

    # Add the dictionary to the list
    dict_list.append(elt_dict)


# Print the list to confirm success
dict_list


browser.quit()
