


# Import relevant libraries
from splinter import Browser
from bs4 import BeautifulSoup
import matplotlib.pyplot as plt
import pandas as pd


browser = Browser('chrome')





# Visit the website
url = 'https://static.bc-edx.com/data/web/mars_facts/temperature.html'
browser.visit(url)





# Create a Beautiful Soup Object
soup = BeautifulSoup(browser.html, 'html.parser')


# Extract all rows of data
all_rows = soup.find_all('tr', class_='data-row')
all_rows





# Create an empty list
mars_list = []

# Loop through the scraped data to create a list of rows
for row in all_rows:
    # Get a list of 'td' per row
    all_td = row.find_all('td')

    # Create a dictionary to hold each row
    row_dict = dict()

    # Loop to populate the dictionary
    for idx, value in enumerate(all_td):
        row_dict[idx] = value.get_text()

    # Append the dictionary to the list
    mars_list.append(row_dict)


# Create a Pandas DataFrame by using the list of rows and a list of the column names
mars_df = pd.DataFrame(mars_list)

# Update the column headings to match the headings on the website
key_names = ['id', 'terrestrial_date', 'sol', 'ls', 'month', 'min_temp', 'pressure']
mars_df.columns = key_names


# Confirm DataFrame was created successfully
mars_df.head()





# Examine data type of each column
mars_df.dtypes


# Change data types for data analysis
int_cols = ['sol', 'ls', 'month']
float_cols = ['min_temp', 'pressure']

# Convert columns
mars_df[int_cols] = mars_df[int_cols].astype(int)
mars_df[float_cols] = mars_df[float_cols].astype(float)
mars_df['terrestrial_date'] = pd.to_datetime(mars_df['terrestrial_date'])


# Confirm type changes were successful by examining data types again
mars_df.dtypes





# 1. How many months are there on Mars?
num_months = mars_df.groupby('month')['id'].count()
num_months


# 2. How many Martian days' worth of data are there?
martian_days = len(mars_df['terrestrial_date'].unique())
martian_days


# 3. What is the average low temperature by month?
ave_low = mars_df.groupby('month')['min_temp'].mean()
ave_low


# Plot the average temperature by month
ave_low.plot(
    kind = 'bar',
    title = "Average Temperature by Month",
    xlabel = "Month",
    ylabel = "Temperature in Celsius")

plt.show()


sorted_temps = ave_low.sort_values()
sorted_temps.plot(kind='bar')


# Identify the coldest and hottest months in Curiosity's location



# 4. Average pressure by Martian month



# Plot the average pressure by month



# 5. How many terrestrial (earth) days are there in a Martian year?















# Write the data to a CSV



browser.quit()



