


# Import relevant libraries
from splinter import Browser
from bs4 import BeautifulSoup
import matplotlib.pyplot as plt
import pandas as pd


browser = Browser('chrome')





# Visit the website
url = 'https://static.bc-edx.com/data/web/mars_facts/temperature.html'
browser.visit(url)





# Create a Beautiful Soup Object
soup = BeautifulSoup(browser.html, 'html.parser')


# Extract all rows of data
all_rows = soup.find_all('tr', class_='data-row')
all_rows





# Create an empty list
keyless_list = []

# Loop through the scraped data to create a list of rows
for row in all_rows:
    # Get a list of 'td' per row
    all_td = row.find_all('td')

    # Create a dictionary to hold each row
    row_dict = dict()

    # Loop to populate the dictionary
    for idx, value in enumerate(all_td):
        row_dict[idx] = value.get_text()

    # Append the dictionary to the list
    keyless_list.append(row_dict)

# List of column headings as the dictionary keys
key_names = ['id', 'terrestrial_date', 'sol', 'ls', 'month', 'min_temp', 'pressure']

# Create an empty list - required list
mars_list = []

# Loop through the list of dictionaries and correct the keys
for row in keyless_list:
    updated_dict = dict()
    
    # Change the dictionary keys
    for key, value in zip(key_names, row):
        updated_dict[key] = value

    # Append the dictionary to the list
    mars_list.append(updated_dict)

mars_list


# Create a Pandas DataFrame by using the list of rows and a list of the column names



# Confirm DataFrame was created successfully






# Examine data type of each column



# Change data types for data analysis



# Confirm type changes were successful by examining data types again






# 1. How many months are there on Mars?



# 2. How many Martian days' worth of data are there?



# 3. What is the average low temperature by month?



# Plot the average temperature by month



# Identify the coldest and hottest months in Curiosity's location



# 4. Average pressure by Martian month



# Plot the average pressure by month



# 5. How many terrestrial (earth) days are there in a Martian year?















# Write the data to a CSV



browser.quit()



