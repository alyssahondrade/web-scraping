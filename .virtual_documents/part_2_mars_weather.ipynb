


# Import relevant libraries
from splinter import Browser
from bs4 import BeautifulSoup
import matplotlib.pyplot as plt
import pandas as pd


browser = Browser('chrome')





# Visit the website
url = 'https://static.bc-edx.com/data/web/mars_facts/temperature.html'
browser.visit(url)





# Create a Beautiful Soup Object
soup = BeautifulSoup(browser.html, 'html.parser')


# Extract all rows of data
all_rows = soup.find_all('tr', class_='data-row')
all_rows





# Create an empty list
mars_list = []

# Loop through the scraped data to create a list of rows
for row in all_rows:
    # Get a list of 'td' per row
    all_td = row.find_all('td')

    # Create a dictionary to hold each row
    row_dict = dict()

    # Loop to populate the dictionary
    for idx, value in enumerate(all_td):
        row_dict[idx] = value.get_text()

    # Append the dictionary to the list
    mars_list.append(row_dict)


# Create a Pandas DataFrame by using the list of rows and a list of the column names
mars_df = pd.DataFrame(mars_list)

# Update the column headings to match the headings on the website
key_names = ['id', 'terrestrial_date', 'sol', 'ls', 'month', 'min_temp', 'pressure']
mars_df.columns = key_names


# Confirm DataFrame was created successfully
mars_df.head()





# Examine data type of each column
mars_df.dtypes


# Change data types for data analysis
int_cols = ['sol', 'ls', 'month']
float_cols = ['min_temp', 'pressure']

# Convert columns
mars_df[int_cols] = mars_df[int_cols].astype(int)
mars_df[float_cols] = mars_df[float_cols].astype(float)
mars_df['terrestrial_date'] = pd.to_datetime(mars_df['terrestrial_date'])


# Confirm type changes were successful by examining data types again
mars_df.dtypes





# 1. How many months are there on Mars?
num_months = mars_df.groupby('month')['id'].count()
num_months


# 2. How many Martian days' worth of data are there?
martian_days = len(mars_df['terrestrial_date'].unique())
martian_days


# 3. What is the average low temperature by month?
ave_low = mars_df.groupby('month')['min_temp'].mean()
ave_low


# Plot the average temperature by month
ave_low.plot(
    kind = 'bar',
    title = "Average Temperature by Month",
    xlabel = "Month",
    ylabel = "Temperature in Celsius")

plt.show()


# Identify the coldest and hottest months in Curiosity's location
sorted_temps = ave_low.sort_values()

sorted_temps.plot(
    kind = 'bar',
    title = "Average Temperature by Month",
    xlabel = "Month",
    ylabel = "Temperature in Celsius")

plt.show()


# 4. Average pressure by Martian month
ave_pressure = mars_df.groupby('month')['pressure'].mean()
ave_pressure


# Plot the average pressure by month
sorted_pressure = ave_pressure.sort_values()

sorted_pressure.plot(
    kind = 'bar',
    title = "Average Pressure by Month",
    xlabel = "Month",
    ylabel = "Atmospheric Pressure")

plt.show()


# 5. How many terrestrial (earth) days are there in a Martian year?

# Convert the datetime x-axis values to the number of days
step_size = 250
total_days = len(mars_df['terrestrial_date'].unique())

# Define the x-tick labels: [0, 250, ... 1750]
xtick_labels = [day for day in range(0, total_days, step_size)]

# Define the x-tick location for v-lines: [750, 1425]
vline_labels = [750, 1425]

# Define the corresponding x-tick location (datetime value)
xtick_location = []
vline_location = []
for idx, day in enumerate(mars_df['terrestrial_date']):
    for num in xtick_labels:
        if num == idx:
            xtick_location.append(day)
    for num in vline_labels:
        if num == idx:
            vline_location.append(day)

# Plot the line graph
line_plot = mars_df.plot(
    x = 'terrestrial_date',
    y = 'min_temp',
    title = "Terrestrial (Earth) Days in a Martian Year",
    xlabel = "Number of terrestrial days",
    ylabel = "Minimum temperature",
    xticks = xtick_location,
    figsize = (7,5))

# Fix the x-tick labels
line_plot.set_xticklabels(
    labels = earth_days,
    rotation_mode = 'default',
    rotation = 0,
    ha = 'center')

# Plot v-lines to assist visual estimation
for idx, line in enumerate(vline_location):
    line_plot.vlines(
        x = line,
        ymin = mars_df['min_temp'].min(),
        ymax = mars_df['min_temp'].max(),
        color = 'black',
        linestyle = '--',
        label = f'{vline_labels[idx]} days')

plt.legend(loc='lower left')
plt.show()














# Write the data to a CSV
mars_df.to_csv('mars_weather_data.csv', index=False, header=True)


browser.quit()



